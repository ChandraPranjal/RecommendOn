{
 "cells": [
  {
   "cell_type": "code",
   "execution_count": 1,
   "id": "45e5f193-0876-4cd1-8902-b5c4705bb2c7",
   "metadata": {},
   "outputs": [
    {
     "name": "stderr",
     "output_type": "stream",
     "text": [
      "2023-10-24 16:22:46.318079: I tensorflow/core/util/port.cc:111] oneDNN custom operations are on. You may see slightly different numerical results due to floating-point round-off errors from different computation orders. To turn them off, set the environment variable `TF_ENABLE_ONEDNN_OPTS=0`.\n",
      "2023-10-24 16:22:46.424618: I tensorflow/tsl/cuda/cudart_stub.cc:28] Could not find cuda drivers on your machine, GPU will not be used.\n",
      "2023-10-24 16:22:46.583208: E tensorflow/compiler/xla/stream_executor/cuda/cuda_dnn.cc:9342] Unable to register cuDNN factory: Attempting to register factory for plugin cuDNN when one has already been registered\n",
      "2023-10-24 16:22:46.583402: E tensorflow/compiler/xla/stream_executor/cuda/cuda_fft.cc:609] Unable to register cuFFT factory: Attempting to register factory for plugin cuFFT when one has already been registered\n",
      "2023-10-24 16:22:46.583463: E tensorflow/compiler/xla/stream_executor/cuda/cuda_blas.cc:1518] Unable to register cuBLAS factory: Attempting to register factory for plugin cuBLAS when one has already been registered\n",
      "2023-10-24 16:22:46.626730: I tensorflow/tsl/cuda/cudart_stub.cc:28] Could not find cuda drivers on your machine, GPU will not be used.\n",
      "2023-10-24 16:22:46.627534: I tensorflow/core/platform/cpu_feature_guard.cc:182] This TensorFlow binary is optimized to use available CPU instructions in performance-critical operations.\n",
      "To enable the following instructions: AVX2 AVX512F AVX512_VNNI FMA, in other operations, rebuild TensorFlow with the appropriate compiler flags.\n",
      "2023-10-24 16:22:47.906599: W tensorflow/compiler/tf2tensorrt/utils/py_utils.cc:38] TF-TRT Warning: Could not find TensorRT\n"
     ]
    }
   ],
   "source": [
    "# Import TensorFlow and hub\n",
    "import tensorflow as tf\n",
    "import tensorflow_hub as hub\n",
    "\n",
    "# Plotting\n",
    "import matplotlib.pyplot as plt\n",
    "\n",
    "# some important packages\n",
    "import os\n",
    "import re\n",
    "import numpy as np\n",
    "import pandas as pd\n",
    "\n",
    "# scikit-learn\n",
    "from sklearn.metrics.pairwise import cosine_similarity\n",
    "from sklearn.neighbors import NearestNeighbors\n",
    "from sklearn.decomposition import PCA"
   ]
  },
  {
   "cell_type": "code",
   "execution_count": 2,
   "id": "35e09cc1-937d-46ad-9b9f-666751c5be4a",
   "metadata": {},
   "outputs": [
    {
     "name": "stdout",
     "output_type": "stream",
     "text": [
      "Model Loaded\n"
     ]
    }
   ],
   "source": [
    "model_url = \"https://tfhub.dev/google/universal-sentence-encoder/4\"\n",
    "model = hub.load(model_url)\n",
    "print('Model Loaded')"
   ]
  },
  {
   "cell_type": "code",
   "execution_count": 3,
   "id": "c9fe6390-5235-4eee-a3e2-42e8387c01f1",
   "metadata": {},
   "outputs": [],
   "source": [
    "def embed(texts):\n",
    "    return model(texts)"
   ]
  },
  {
   "cell_type": "code",
   "execution_count": 4,
   "id": "8a309bed-7ef9-4050-be73-334d18e6ac57",
   "metadata": {},
   "outputs": [
    {
     "data": {
      "text/plain": [
       "<tf.Tensor: shape=(1, 512), dtype=float32, numpy=\n",
       "array([[ 0.00549278,  0.02886904, -0.02628895,  0.04502157, -0.01233331,\n",
       "         0.02568332, -0.00071878, -0.05447305,  0.04221926, -0.01913715,\n",
       "         0.02710012, -0.04328045, -0.02486853,  0.01359517,  0.00482796,\n",
       "        -0.05379636,  0.01630707,  0.02139913,  0.02644027, -0.02320251,\n",
       "         0.06569215, -0.10137626, -0.01691998,  0.02492479,  0.02406816,\n",
       "        -0.03139618, -0.03265482, -0.05174924, -0.0727149 ,  0.10145196,\n",
       "         0.03868444,  0.04380692, -0.02071746, -0.01873293, -0.03071439,\n",
       "         0.01825574,  0.03627157,  0.01321462,  0.0094349 , -0.03006624,\n",
       "         0.06655684,  0.01529935, -0.10101432, -0.00671949, -0.0157864 ,\n",
       "         0.04991005,  0.02548565,  0.05454974, -0.0165857 ,  0.05624886,\n",
       "         0.03834501, -0.08679943, -0.06096424, -0.01161774,  0.01997449,\n",
       "         0.04206812, -0.04119829, -0.00768586, -0.05101155,  0.01210043,\n",
       "        -0.01673213, -0.01382073,  0.00373699,  0.04911599, -0.03481684,\n",
       "         0.0570432 ,  0.01964702,  0.01331997,  0.0639983 , -0.0600764 ,\n",
       "         0.04977039,  0.05969533, -0.00512163,  0.00345537,  0.02347388,\n",
       "         0.0165788 ,  0.00882616, -0.05840249,  0.01081954,  0.09112442,\n",
       "        -0.04244043,  0.0237871 , -0.00078289,  0.02853671,  0.00093319,\n",
       "         0.04208673,  0.03671128, -0.04355021, -0.09307761, -0.00054823,\n",
       "        -0.01398351, -0.02585264,  0.00277772,  0.03043684,  0.10135814,\n",
       "         0.00514983,  0.00857206, -0.05206996,  0.09978893,  0.09052151,\n",
       "         0.00727674, -0.00806309,  0.01509867, -0.00024918,  0.00344265,\n",
       "        -0.01363514, -0.02850653, -0.02132623,  0.0064455 ,  0.00035648,\n",
       "         0.04428069,  0.04263914,  0.06019289, -0.01540298, -0.05650955,\n",
       "         0.06915259, -0.02070851, -0.0530486 ,  0.02065352,  0.02122759,\n",
       "        -0.01767538, -0.00901928, -0.02521261, -0.02947342, -0.00788984,\n",
       "        -0.08103788,  0.00427623, -0.10145587,  0.06386338,  0.09853414,\n",
       "        -0.00386893, -0.02636256,  0.03109704, -0.06319857,  0.02323464,\n",
       "        -0.08689979, -0.02764196, -0.03676214, -0.09642366, -0.00811525,\n",
       "         0.02796138, -0.04216223,  0.02821674,  0.07147539,  0.02029409,\n",
       "         0.05213043,  0.00547966,  0.01005903, -0.00968193,  0.00038218,\n",
       "         0.02508673,  0.00367785, -0.08550173, -0.03470821,  0.03182831,\n",
       "         0.07189631,  0.07062657, -0.04086525,  0.0668714 , -0.01880954,\n",
       "        -0.05949424,  0.0276128 ,  0.07921506,  0.07259229, -0.03060989,\n",
       "         0.02377022, -0.07497517, -0.03893215,  0.03242346,  0.00316037,\n",
       "         0.01624399,  0.06015551, -0.02738688, -0.0372602 , -0.02249829,\n",
       "         0.05164829, -0.04710846,  0.04515139,  0.01647222, -0.07968112,\n",
       "        -0.02482688,  0.07581185, -0.04040242, -0.02527555,  0.03866641,\n",
       "         0.02881842,  0.03863061,  0.03125423,  0.09795642,  0.05011389,\n",
       "        -0.04737549, -0.00737251,  0.01652104, -0.06835041,  0.01118032,\n",
       "        -0.04373854,  0.01260422, -0.0024277 , -0.00058694, -0.02478767,\n",
       "         0.02563103, -0.0530264 , -0.01710279,  0.00217772,  0.06206434,\n",
       "         0.00491737,  0.0612098 ,  0.01655244, -0.03342636, -0.00202415,\n",
       "        -0.07622245,  0.00806767, -0.08526599, -0.02341259,  0.08972816,\n",
       "        -0.02402739, -0.0162587 , -0.04681421,  0.02810653, -0.03114546,\n",
       "         0.0148986 , -0.05796926, -0.04334744,  0.0478856 , -0.09521476,\n",
       "         0.05614292, -0.09003564, -0.00125589,  0.0482594 , -0.01603316,\n",
       "         0.00241586, -0.0070267 ,  0.02820105,  0.09956266, -0.00557051,\n",
       "        -0.00392299,  0.07811754,  0.04828189,  0.01216742,  0.02649803,\n",
       "         0.02752789,  0.02974232,  0.073373  ,  0.00549875,  0.02175409,\n",
       "         0.03527225, -0.02245825, -0.03951044, -0.01718158, -0.00958714,\n",
       "         0.01648904,  0.02756677, -0.04291252,  0.01616792,  0.04632331,\n",
       "         0.0365464 ,  0.00651559, -0.03667973,  0.05807525, -0.01841666,\n",
       "        -0.0026697 ,  0.00346312, -0.02939767, -0.01507322,  0.01409322,\n",
       "        -0.0059119 ,  0.03839973,  0.04513567,  0.01936358,  0.02554665,\n",
       "         0.07666096,  0.10104094,  0.00929441,  0.0048254 ,  0.02027611,\n",
       "         0.00240533,  0.02083166, -0.03676214,  0.10099945,  0.03398842,\n",
       "         0.05451925,  0.01629777,  0.00153097,  0.04745294, -0.02842083,\n",
       "        -0.10145631, -0.03567201,  0.04948912,  0.05039084, -0.03494554,\n",
       "        -0.00588499,  0.09687837, -0.05840483,  0.01675772,  0.02724424,\n",
       "         0.0266324 ,  0.03828524,  0.03009386,  0.01220314,  0.06866228,\n",
       "         0.02131048, -0.02601963, -0.02164593, -0.05966081,  0.02477538,\n",
       "        -0.03523963,  0.03393567,  0.00168255, -0.00818858,  0.06598676,\n",
       "        -0.01477986, -0.00547288,  0.02505231,  0.0064873 ,  0.02565608,\n",
       "         0.02956757, -0.03080941, -0.03890033, -0.03340892,  0.00147071,\n",
       "        -0.01925301,  0.03625213,  0.06860746, -0.04845804,  0.01100691,\n",
       "        -0.00560865,  0.02295659, -0.00988499, -0.0304068 ,  0.01045824,\n",
       "         0.00439852,  0.00435427, -0.01468392, -0.02332353, -0.09393281,\n",
       "        -0.04051306, -0.02504383, -0.02483059, -0.00718715,  0.02460037,\n",
       "         0.09772791,  0.04025537, -0.03151967,  0.00815452,  0.02152841,\n",
       "         0.02150849, -0.05112505, -0.10104636, -0.04361084, -0.03795958,\n",
       "        -0.01316943, -0.0034494 , -0.04037201,  0.01797771, -0.01757184,\n",
       "        -0.04222957, -0.0975797 , -0.00327324,  0.03685581,  0.05532565,\n",
       "        -0.01406302, -0.04614403,  0.09916461,  0.03399036,  0.03972924,\n",
       "         0.01713762, -0.09407923,  0.04282647, -0.01115872,  0.02056502,\n",
       "        -0.02484544,  0.02506446,  0.00555093, -0.00292716,  0.03787243,\n",
       "        -0.0349425 ,  0.06777944,  0.02706831,  0.03850489, -0.05578919,\n",
       "        -0.03302136,  0.00301089,  0.02818891,  0.07666627, -0.08516956,\n",
       "        -0.03537202, -0.06837835, -0.00548802, -0.01908863, -0.00284603,\n",
       "         0.08247842, -0.01801231, -0.00120915,  0.02134809,  0.02816014,\n",
       "        -0.02182807, -0.07698049,  0.04191507, -0.01772332, -0.10040033,\n",
       "         0.00692177, -0.0279631 , -0.0445582 , -0.06157222,  0.10145622,\n",
       "        -0.00963382,  0.10096458,  0.00471773,  0.06617887,  0.03885557,\n",
       "        -0.00787652,  0.02685571, -0.03091919, -0.01056328,  0.10033692,\n",
       "        -0.03595692, -0.01495693,  0.05245735, -0.0397307 ,  0.04209253,\n",
       "         0.018536  ,  0.0231187 , -0.0569055 , -0.03293652,  0.02865035,\n",
       "         0.06984379, -0.02771938,  0.05746055, -0.01802601,  0.10100625,\n",
       "         0.00823107, -0.00218664, -0.01977455, -0.02139798, -0.02073987,\n",
       "        -0.07589929, -0.02751527,  0.01627712, -0.01539142, -0.06262938,\n",
       "         0.01311475, -0.09933811, -0.04334499, -0.08061335,  0.00917237,\n",
       "        -0.02972654, -0.02589019, -0.06180017, -0.03558387,  0.01895514,\n",
       "        -0.01997395, -0.00617033,  0.07606238,  0.04640508,  0.02881571,\n",
       "        -0.04640505, -0.01369575, -0.06184129,  0.04200371,  0.00202799,\n",
       "        -0.02030321,  0.04844751,  0.01807224,  0.07844786, -0.03313062,\n",
       "         0.05824582,  0.00447845, -0.01961144, -0.00045637,  0.03107095,\n",
       "        -0.00321139,  0.01680852,  0.06138908,  0.0051797 , -0.02396526,\n",
       "         0.02933807, -0.05025388, -0.04185718,  0.09955994,  0.06448301,\n",
       "         0.03606918, -0.03115355,  0.01786363,  0.01037989,  0.06728493,\n",
       "        -0.0651937 ,  0.00495936,  0.10143957, -0.01632893, -0.04359462,\n",
       "        -0.02721568, -0.01624428,  0.03745246, -0.02960904,  0.04793229,\n",
       "        -0.01649585, -0.00442801,  0.00562302, -0.01870943, -0.05266126,\n",
       "        -0.0273157 , -0.10080238,  0.02205936,  0.02533066, -0.04713245,\n",
       "         0.01325951, -0.01660338,  0.00863711,  0.06462494, -0.052168  ,\n",
       "         0.10145401, -0.00225028]], dtype=float32)>"
      ]
     },
     "execution_count": 4,
     "metadata": {},
     "output_type": "execute_result"
    }
   ],
   "source": [
    "embed(['This movie was great!'])"
   ]
  },
  {
   "cell_type": "code",
   "execution_count": 5,
   "id": "57466371-6a20-4f2c-a980-4fa919d03cca",
   "metadata": {},
   "outputs": [
    {
     "data": {
      "text/html": [
       "<div>\n",
       "<style scoped>\n",
       "    .dataframe tbody tr th:only-of-type {\n",
       "        vertical-align: middle;\n",
       "    }\n",
       "\n",
       "    .dataframe tbody tr th {\n",
       "        vertical-align: top;\n",
       "    }\n",
       "\n",
       "    .dataframe thead th {\n",
       "        text-align: right;\n",
       "    }\n",
       "</style>\n",
       "<table border=\"1\" class=\"dataframe\">\n",
       "  <thead>\n",
       "    <tr style=\"text-align: right;\">\n",
       "      <th></th>\n",
       "      <th>Unnamed: 0</th>\n",
       "      <th>id</th>\n",
       "      <th>original_language</th>\n",
       "      <th>original_title</th>\n",
       "      <th>popularity</th>\n",
       "      <th>release_date</th>\n",
       "      <th>vote_average</th>\n",
       "      <th>vote_count</th>\n",
       "      <th>genre</th>\n",
       "      <th>overview</th>\n",
       "      <th>revenue</th>\n",
       "      <th>runtime</th>\n",
       "      <th>tagline</th>\n",
       "    </tr>\n",
       "  </thead>\n",
       "  <tbody>\n",
       "    <tr>\n",
       "      <th>0</th>\n",
       "      <td>0</td>\n",
       "      <td>580489.0</td>\n",
       "      <td>en</td>\n",
       "      <td>Venom: Let There Be Carnage</td>\n",
       "      <td>5401.308</td>\n",
       "      <td>2021-09-30</td>\n",
       "      <td>6.8</td>\n",
       "      <td>1736.0</td>\n",
       "      <td>['Science Fiction', 'Action', 'Adventure']</td>\n",
       "      <td>After finding a host body in investigative rep...</td>\n",
       "      <td>424000000.0</td>\n",
       "      <td>97.0</td>\n",
       "      <td>NaN</td>\n",
       "    </tr>\n",
       "    <tr>\n",
       "      <th>1</th>\n",
       "      <td>1</td>\n",
       "      <td>524434.0</td>\n",
       "      <td>en</td>\n",
       "      <td>Eternals</td>\n",
       "      <td>3365.535</td>\n",
       "      <td>2021-11-03</td>\n",
       "      <td>7.1</td>\n",
       "      <td>622.0</td>\n",
       "      <td>['Action', 'Adventure', 'Science Fiction', 'Fa...</td>\n",
       "      <td>The Eternals are a team of ancient aliens who ...</td>\n",
       "      <td>165000000.0</td>\n",
       "      <td>157.0</td>\n",
       "      <td>In the beginning...</td>\n",
       "    </tr>\n",
       "    <tr>\n",
       "      <th>2</th>\n",
       "      <td>2</td>\n",
       "      <td>438631.0</td>\n",
       "      <td>en</td>\n",
       "      <td>Dune</td>\n",
       "      <td>2911.423</td>\n",
       "      <td>2021-09-15</td>\n",
       "      <td>8.0</td>\n",
       "      <td>3632.0</td>\n",
       "      <td>['Action', 'Adventure', 'Science Fiction']</td>\n",
       "      <td>Paul Atreides, a brilliant and gifted young ma...</td>\n",
       "      <td>331116356.0</td>\n",
       "      <td>155.0</td>\n",
       "      <td>Beyond fear, destiny awaits.</td>\n",
       "    </tr>\n",
       "    <tr>\n",
       "      <th>3</th>\n",
       "      <td>3</td>\n",
       "      <td>796499.0</td>\n",
       "      <td>en</td>\n",
       "      <td>Army of Thieves</td>\n",
       "      <td>2552.437</td>\n",
       "      <td>2021-10-27</td>\n",
       "      <td>6.9</td>\n",
       "      <td>555.0</td>\n",
       "      <td>['Action', 'Crime', 'Thriller']</td>\n",
       "      <td>A mysterious woman recruits bank teller Ludwig...</td>\n",
       "      <td>0.0</td>\n",
       "      <td>127.0</td>\n",
       "      <td>Before Vegas, one locksmith became a legend.</td>\n",
       "    </tr>\n",
       "    <tr>\n",
       "      <th>4</th>\n",
       "      <td>4</td>\n",
       "      <td>550988.0</td>\n",
       "      <td>en</td>\n",
       "      <td>Free Guy</td>\n",
       "      <td>1850.470</td>\n",
       "      <td>2021-08-11</td>\n",
       "      <td>7.8</td>\n",
       "      <td>3493.0</td>\n",
       "      <td>['Comedy', 'Action', 'Adventure', 'Science Fic...</td>\n",
       "      <td>A bank teller called Guy realizes he is a back...</td>\n",
       "      <td>331096766.0</td>\n",
       "      <td>115.0</td>\n",
       "      <td>Life's too short to be a background character.</td>\n",
       "    </tr>\n",
       "  </tbody>\n",
       "</table>\n",
       "</div>"
      ],
      "text/plain": [
       "  Unnamed: 0        id original_language               original_title  \\\n",
       "0          0  580489.0                en  Venom: Let There Be Carnage   \n",
       "1          1  524434.0                en                     Eternals   \n",
       "2          2  438631.0                en                         Dune   \n",
       "3          3  796499.0                en              Army of Thieves   \n",
       "4          4  550988.0                en                     Free Guy   \n",
       "\n",
       "   popularity release_date  vote_average  vote_count  \\\n",
       "0    5401.308   2021-09-30           6.8      1736.0   \n",
       "1    3365.535   2021-11-03           7.1       622.0   \n",
       "2    2911.423   2021-09-15           8.0      3632.0   \n",
       "3    2552.437   2021-10-27           6.9       555.0   \n",
       "4    1850.470   2021-08-11           7.8      3493.0   \n",
       "\n",
       "                                               genre  \\\n",
       "0         ['Science Fiction', 'Action', 'Adventure']   \n",
       "1  ['Action', 'Adventure', 'Science Fiction', 'Fa...   \n",
       "2         ['Action', 'Adventure', 'Science Fiction']   \n",
       "3                    ['Action', 'Crime', 'Thriller']   \n",
       "4  ['Comedy', 'Action', 'Adventure', 'Science Fic...   \n",
       "\n",
       "                                            overview      revenue  runtime  \\\n",
       "0  After finding a host body in investigative rep...  424000000.0     97.0   \n",
       "1  The Eternals are a team of ancient aliens who ...  165000000.0    157.0   \n",
       "2  Paul Atreides, a brilliant and gifted young ma...  331116356.0    155.0   \n",
       "3  A mysterious woman recruits bank teller Ludwig...          0.0    127.0   \n",
       "4  A bank teller called Guy realizes he is a back...  331096766.0    115.0   \n",
       "\n",
       "                                          tagline  \n",
       "0                                             NaN  \n",
       "1                             In the beginning...  \n",
       "2                    Beyond fear, destiny awaits.  \n",
       "3    Before Vegas, one locksmith became a legend.  \n",
       "4  Life's too short to be a background character.  "
      ]
     },
     "execution_count": 5,
     "metadata": {},
     "output_type": "execute_result"
    }
   ],
   "source": [
    "df = pd.read_csv(\"Top_10000_Movies.csv\", engine=\"python\")\n",
    "df.head()"
   ]
  },
  {
   "cell_type": "code",
   "execution_count": 6,
   "id": "896c2b20-d24d-4deb-8db2-7bad1a46958a",
   "metadata": {},
   "outputs": [
    {
     "data": {
      "text/html": [
       "<div>\n",
       "<style scoped>\n",
       "    .dataframe tbody tr th:only-of-type {\n",
       "        vertical-align: middle;\n",
       "    }\n",
       "\n",
       "    .dataframe tbody tr th {\n",
       "        vertical-align: top;\n",
       "    }\n",
       "\n",
       "    .dataframe thead th {\n",
       "        text-align: right;\n",
       "    }\n",
       "</style>\n",
       "<table border=\"1\" class=\"dataframe\">\n",
       "  <thead>\n",
       "    <tr style=\"text-align: right;\">\n",
       "      <th></th>\n",
       "      <th>original_title</th>\n",
       "      <th>overview</th>\n",
       "    </tr>\n",
       "  </thead>\n",
       "  <tbody>\n",
       "    <tr>\n",
       "      <th>0</th>\n",
       "      <td>Venom: Let There Be Carnage</td>\n",
       "      <td>After finding a host body in investigative rep...</td>\n",
       "    </tr>\n",
       "    <tr>\n",
       "      <th>1</th>\n",
       "      <td>Eternals</td>\n",
       "      <td>The Eternals are a team of ancient aliens who ...</td>\n",
       "    </tr>\n",
       "    <tr>\n",
       "      <th>2</th>\n",
       "      <td>Dune</td>\n",
       "      <td>Paul Atreides, a brilliant and gifted young ma...</td>\n",
       "    </tr>\n",
       "    <tr>\n",
       "      <th>3</th>\n",
       "      <td>Army of Thieves</td>\n",
       "      <td>A mysterious woman recruits bank teller Ludwig...</td>\n",
       "    </tr>\n",
       "    <tr>\n",
       "      <th>4</th>\n",
       "      <td>Free Guy</td>\n",
       "      <td>A bank teller called Guy realizes he is a back...</td>\n",
       "    </tr>\n",
       "  </tbody>\n",
       "</table>\n",
       "</div>"
      ],
      "text/plain": [
       "                original_title  \\\n",
       "0  Venom: Let There Be Carnage   \n",
       "1                     Eternals   \n",
       "2                         Dune   \n",
       "3              Army of Thieves   \n",
       "4                     Free Guy   \n",
       "\n",
       "                                            overview  \n",
       "0  After finding a host body in investigative rep...  \n",
       "1  The Eternals are a team of ancient aliens who ...  \n",
       "2  Paul Atreides, a brilliant and gifted young ma...  \n",
       "3  A mysterious woman recruits bank teller Ludwig...  \n",
       "4  A bank teller called Guy realizes he is a back...  "
      ]
     },
     "execution_count": 6,
     "metadata": {},
     "output_type": "execute_result"
    }
   ],
   "source": [
    "df = df[[\"original_title\", \"overview\"]]\n",
    "df.head()"
   ]
  },
  {
   "cell_type": "code",
   "execution_count": 7,
   "id": "72e0c163-50be-493a-8451-c2f725d4a747",
   "metadata": {},
   "outputs": [],
   "source": [
    "df = df.dropna()\n",
    "df = df.reset_index()\n",
    "df = df[:5500]"
   ]
  },
  {
   "cell_type": "code",
   "execution_count": 8,
   "id": "cbd84a1b-722c-45dd-96d6-226194770d9f",
   "metadata": {},
   "outputs": [],
   "source": [
    "titles = list(df['overview'])"
   ]
  },
  {
   "cell_type": "code",
   "execution_count": 9,
   "id": "78042f65-8bcf-4427-ab29-a01d55ecc0b5",
   "metadata": {},
   "outputs": [
    {
     "data": {
      "text/plain": [
       "['After finding a host body in investigative reporter Eddie Brock, the alien symbiote must face a new enemy, Carnage, the alter ego of serial killer Cletus Kasady.',\n",
       " 'The Eternals are a team of ancient aliens who have been living on Earth in secret for thousands of years. When an unexpected tragedy forces them out of the shadows, they are forced to reunite against mankind’s most ancient enemy, the Deviants.',\n",
       " \"Paul Atreides, a brilliant and gifted young man born into a great destiny beyond his understanding, must travel to the most dangerous planet in the universe to ensure the future of his family and his people. As malevolent forces explode into conflict over the planet's exclusive supply of the most precious resource in existence-a commodity capable of unlocking humanity's greatest potential-only those who can conquer their fear will survive.\",\n",
       " 'A mysterious woman recruits bank teller Ludwig Dieter to lead a group of aspiring thieves on a top-secret heist during the early stages of the zombie apocalypse.',\n",
       " 'A bank teller called Guy realizes he is a background character in an open world video game called Free City that will soon go offline.']"
      ]
     },
     "execution_count": 9,
     "metadata": {},
     "output_type": "execute_result"
    }
   ],
   "source": [
    "titles[:5]"
   ]
  },
  {
   "cell_type": "code",
   "execution_count": 10,
   "id": "4b710a2f-e88e-4612-844f-cdee6520fa5f",
   "metadata": {},
   "outputs": [
    {
     "name": "stdout",
     "output_type": "stream",
     "text": [
      "The embedding shape is: (5500, 512)\n"
     ]
    }
   ],
   "source": [
    "embeddings = embed(titles)\n",
    "print('The embedding shape is:', embeddings.shape)"
   ]
  },
  {
   "cell_type": "code",
   "execution_count": 11,
   "id": "42d2037d-e848-4256-85b2-f3a39172c85b",
   "metadata": {},
   "outputs": [],
   "source": [
    "pca = PCA(n_components=2)\n",
    "emb_2d = pca.fit_transform(embeddings)"
   ]
  },
  {
   "cell_type": "code",
   "execution_count": 12,
   "id": "81f744d5-d93b-4705-ab37-66ff0fb90079",
   "metadata": {},
   "outputs": [
    {
     "data": {
      "image/png": "[encoded data removed]",
      "text/plain": [
       "<Figure size 1100x600 with 1 Axes>"
      ]
     },
     "metadata": {},
     "output_type": "display_data"
    }
   ],
   "source": [
    "plt.figure(figsize=(11, 6))\n",
    "plt.title('Embedding space')\n",
    "plt.scatter(emb_2d[:, 0], emb_2d[:, 1])\n",
    "plt.show()"
   ]
  },
  {
   "cell_type": "code",
   "execution_count": 13,
   "id": "052598e7-df0b-4f56-b640-baf97854db2f",
   "metadata": {},
   "outputs": [
    {
     "data": {
      "text/html": [
       "<style>#sk-container-id-1 {color: black;}#sk-container-id-1 pre{padding: 0;}#sk-container-id-1 div.sk-toggleable {background-color: white;}#sk-container-id-1 label.sk-toggleable__label {cursor: pointer;display: block;width: 100%;margin-bottom: 0;padding: 0.3em;box-sizing: border-box;text-align: center;}#sk-container-id-1 label.sk-toggleable__label-arrow:before {content: \"▸\";float: left;margin-right: 0.25em;color: #696969;}#sk-container-id-1 label.sk-toggleable__label-arrow:hover:before {color: black;}#sk-container-id-1 div.sk-estimator:hover label.sk-toggleable__label-arrow:before {color: black;}#sk-container-id-1 div.sk-toggleable__content {max-height: 0;max-width: 0;overflow: hidden;text-align: left;background-color: #f0f8ff;}#sk-container-id-1 div.sk-toggleable__content pre {margin: 0.2em;color: black;border-radius: 0.25em;background-color: #f0f8ff;}#sk-container-id-1 input.sk-toggleable__control:checked~div.sk-toggleable__content {max-height: 200px;max-width: 100%;overflow: auto;}#sk-container-id-1 input.sk-toggleable__control:checked~label.sk-toggleable__label-arrow:before {content: \"▾\";}#sk-container-id-1 div.sk-estimator input.sk-toggleable__control:checked~label.sk-toggleable__label {background-color: #d4ebff;}#sk-container-id-1 div.sk-label input.sk-toggleable__control:checked~label.sk-toggleable__label {background-color: #d4ebff;}#sk-container-id-1 input.sk-hidden--visually {border: 0;clip: rect(1px 1px 1px 1px);clip: rect(1px, 1px, 1px, 1px);height: 1px;margin: -1px;overflow: hidden;padding: 0;position: absolute;width: 1px;}#sk-container-id-1 div.sk-estimator {font-family: monospace;background-color: #f0f8ff;border: 1px dotted black;border-radius: 0.25em;box-sizing: border-box;margin-bottom: 0.5em;}#sk-container-id-1 div.sk-estimator:hover {background-color: #d4ebff;}#sk-container-id-1 div.sk-parallel-item::after {content: \"\";width: 100%;border-bottom: 1px solid gray;flex-grow: 1;}#sk-container-id-1 div.sk-label:hover label.sk-toggleable__label {background-color: #d4ebff;}#sk-container-id-1 div.sk-serial::before {content: \"\";position: absolute;border-left: 1px solid gray;box-sizing: border-box;top: 0;bottom: 0;left: 50%;z-index: 0;}#sk-container-id-1 div.sk-serial {display: flex;flex-direction: column;align-items: center;background-color: white;padding-right: 0.2em;padding-left: 0.2em;position: relative;}#sk-container-id-1 div.sk-item {position: relative;z-index: 1;}#sk-container-id-1 div.sk-parallel {display: flex;align-items: stretch;justify-content: center;background-color: white;position: relative;}#sk-container-id-1 div.sk-item::before, #sk-container-id-1 div.sk-parallel-item::before {content: \"\";position: absolute;border-left: 1px solid gray;box-sizing: border-box;top: 0;bottom: 0;left: 50%;z-index: -1;}#sk-container-id-1 div.sk-parallel-item {display: flex;flex-direction: column;z-index: 1;position: relative;background-color: white;}#sk-container-id-1 div.sk-parallel-item:first-child::after {align-self: flex-end;width: 50%;}#sk-container-id-1 div.sk-parallel-item:last-child::after {align-self: flex-start;width: 50%;}#sk-container-id-1 div.sk-parallel-item:only-child::after {width: 0;}#sk-container-id-1 div.sk-dashed-wrapped {border: 1px dashed gray;margin: 0 0.4em 0.5em 0.4em;box-sizing: border-box;padding-bottom: 0.4em;background-color: white;}#sk-container-id-1 div.sk-label label {font-family: monospace;font-weight: bold;display: inline-block;line-height: 1.2em;}#sk-container-id-1 div.sk-label-container {text-align: center;}#sk-container-id-1 div.sk-container {/* jupyter's `normalize.less` sets `[hidden] { display: none; }` but bootstrap.min.css set `[hidden] { display: none !important; }` so we also need the `!important` here to be able to override the default hidden behavior on the sphinx rendered scikit-learn.org. See: https://github.com/scikit-learn/scikit-learn/issues/21755 */display: inline-block !important;position: relative;}#sk-container-id-1 div.sk-text-repr-fallback {display: none;}</style><div id=\"sk-container-id-1\" class=\"sk-top-container\"><div class=\"sk-text-repr-fallback\"><pre>NearestNeighbors(n_neighbors=10)</pre><b>In a Jupyter environment, please rerun this cell to show the HTML representation or trust the notebook. <br />On GitHub, the HTML representation is unable to render, please try loading this page with nbviewer.org.</b></div><div class=\"sk-container\" hidden><div class=\"sk-item\"><div class=\"sk-estimator sk-toggleable\"><input class=\"sk-toggleable__control sk-hidden--visually\" id=\"sk-estimator-id-1\" type=\"checkbox\" checked><label for=\"sk-estimator-id-1\" class=\"sk-toggleable__label sk-toggleable__label-arrow\">NearestNeighbors</label><div class=\"sk-toggleable__content\"><pre>NearestNeighbors(n_neighbors=10)</pre></div></div></div></div></div>"
      ],
      "text/plain": [
       "NearestNeighbors(n_neighbors=10)"
      ]
     },
     "execution_count": 13,
     "metadata": {},
     "output_type": "execute_result"
    }
   ],
   "source": [
    "nn = NearestNeighbors(n_neighbors=10)\n",
    "nn.fit(embeddings)"
   ]
  },
  {
   "cell_type": "code",
   "execution_count": 14,
   "id": "fa1ed24a-08af-43ed-8b41-047f93cc2344",
   "metadata": {},
   "outputs": [],
   "source": [
    "def recommend(text):\n",
    "    emb = embed([text])\n",
    "    neighbors = nn.kneighbors(emb, return_distance=False)[0]\n",
    "    return df['original_title'].iloc[neighbors].tolist()"
   ]
  },
  {
   "cell_type": "code",
   "execution_count": 15,
   "id": "c861268b-c037-4ba6-a598-df67558ef164",
   "metadata": {},
   "outputs": [
    {
     "name": "stdout",
     "output_type": "stream",
     "text": [
      "Recommended Movies:\n"
     ]
    },
    {
     "data": {
      "text/plain": [
       "['Titanic',\n",
       " 'Titanic II',\n",
       " 'Titanic: 100 Years On',\n",
       " 'Romeo + Juliet',\n",
       " 'Los 7 pecados capitales',\n",
       " 'The Vow',\n",
       " 'Dear John',\n",
       " 'Јужни Ветар 2: Убрзање',\n",
       " \"Pirates of the Caribbean: At World's End\",\n",
       " 'Barbie & Chelsea: The Lost Birthday']"
      ]
     },
     "execution_count": 15,
     "metadata": {},
     "output_type": "execute_result"
    }
   ],
   "source": [
    "print('Recommended Movies:')\n",
    "recommend(\"Titanic\")"
   ]
  },
  {
   "cell_type": "code",
   "execution_count": 16,
   "id": "798b3229-6e91-4e49-a467-a583dc59d3ce",
   "metadata": {},
   "outputs": [
    {
     "name": "stdout",
     "output_type": "stream",
     "text": [
      "      Unnamed: 0        id original_language               original_title  \\\n",
      "0              0  580489.0                en  Venom: Let There Be Carnage   \n",
      "1              1  524434.0                en                     Eternals   \n",
      "2              2  438631.0                en                         Dune   \n",
      "3              3  796499.0                en              Army of Thieves   \n",
      "4              4  550988.0                en                     Free Guy   \n",
      "...          ...       ...               ...                          ...   \n",
      "10009       9995     530.0                en              A Grand Day Out   \n",
      "10010       9996   15934.0                en                  El cantante   \n",
      "10011       9997  162215.0                en               How I Live Now   \n",
      "10012       9998    5723.0                en                         Once   \n",
      "10013       9999  311667.0                en              Manhattan Night   \n",
      "\n",
      "       popularity release_date  vote_average  vote_count  \\\n",
      "0        5401.308   2021-09-30           6.8      1736.0   \n",
      "1        3365.535   2021-11-03           7.1       622.0   \n",
      "2        2911.423   2021-09-15           8.0      3632.0   \n",
      "3        2552.437   2021-10-27           6.9       555.0   \n",
      "4        1850.470   2021-08-11           7.8      3493.0   \n",
      "...           ...          ...           ...         ...   \n",
      "10009       9.266   1990-05-18           7.5       594.0   \n",
      "10010      10.417   2006-09-12           7.0        80.0   \n",
      "10011       9.520   2013-09-10           6.6       705.0   \n",
      "10012       9.267   2007-03-23           7.4       990.0   \n",
      "10013       9.273   2016-05-20           6.0       304.0   \n",
      "\n",
      "                                                   genre  \\\n",
      "0             ['Science Fiction', 'Action', 'Adventure']   \n",
      "1      ['Action', 'Adventure', 'Science Fiction', 'Fa...   \n",
      "2             ['Action', 'Adventure', 'Science Fiction']   \n",
      "3                        ['Action', 'Crime', 'Thriller']   \n",
      "4      ['Comedy', 'Action', 'Adventure', 'Science Fic...   \n",
      "...                                                  ...   \n",
      "10009  ['Adventure', 'Animation', 'Comedy', 'Science ...   \n",
      "10010                      ['History', 'Drama', 'Music']   \n",
      "10011             ['Drama', 'Action', 'Thriller', 'War']   \n",
      "10012                      ['Drama', 'Music', 'Romance']   \n",
      "10013                   ['Drama', 'Mystery', 'Thriller']   \n",
      "\n",
      "                                                overview      revenue  \\\n",
      "0      After finding a host body in investigative rep...  424000000.0   \n",
      "1      The Eternals are a team of ancient aliens who ...  165000000.0   \n",
      "2      Paul Atreides, a brilliant and gifted young ma...  331116356.0   \n",
      "3      A mysterious woman recruits bank teller Ludwig...          0.0   \n",
      "4      A bank teller called Guy realizes he is a back...  331096766.0   \n",
      "...                                                  ...          ...   \n",
      "10009  Wallace and Gromit have run out of cheese and ...          0.0   \n",
      "10010  The rise and fall of salsa singer, Héctor Lavo...          0.0   \n",
      "10011  An American girl on holiday in the English cou...          0.0   \n",
      "10012  A vacuum repairman moonlights as a street musi...   20710513.0   \n",
      "10013  Porter Wren is a Manhattan tabloid writer with...          0.0   \n",
      "\n",
      "       runtime                                            tagline  \n",
      "0         97.0                                                NaN  \n",
      "1        157.0                                In the beginning...  \n",
      "2        155.0                       Beyond fear, destiny awaits.  \n",
      "3        127.0       Before Vegas, one locksmith became a legend.  \n",
      "4        115.0     Life's too short to be a background character.  \n",
      "...        ...                                                ...  \n",
      "10009     23.0                                                NaN  \n",
      "10010    116.0  Based on the true story of the King of Salsa, ...  \n",
      "10011    101.0                            Love will lead you home  \n",
      "10012     85.0            How often do you find the right person?  \n",
      "10013    113.0                    No reporter can resist a siren.  \n",
      "\n",
      "[10014 rows x 13 columns]\n"
     ]
    }
   ],
   "source": [
    "df = pd.read_csv(\"Top_10000_Movies.csv\", engine=\"python\")\n",
    "print(df)"
   ]
  },
  {
   "cell_type": "code",
   "execution_count": null,
   "id": "23f11639-1d9d-496d-8eef-28196cd2547b",
   "metadata": {},
   "outputs": [],
   "source": []
  }
 ],
 "metadata": {
  "kernelspec": {
   "display_name": "Python 3 (ipykernel)",
   "language": "python",
   "name": "python3"
  },
  "language_info": {
   "codemirror_mode": {
    "name": "ipython",
    "version": 3
   },
   "file_extension": ".py",
   "mimetype": "text/x-python",
   "name": "python",
   "nbconvert_exporter": "python",
   "pygments_lexer": "ipython3",
   "version": "3.10.11"
  }
 },
 "nbformat": 4,
 "nbformat_minor": 5
}
