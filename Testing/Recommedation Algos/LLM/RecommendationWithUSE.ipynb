{
 "cells": [
  {
   "cell_type": "code",
   "execution_count": 7,
   "id": "45e5f193-0876-4cd1-8902-b5c4705bb2c7",
   "metadata": {},
   "outputs": [],
   "source": [
    "# Import TensorFlow and hub\n",
    "import tensorflow as tf\n",
    "import tensorflow_hub as hub\n",
    "\n",
    "# Plotting\n",
    "import matplotlib.pyplot as plt\n",
    "\n",
    "# some important packages\n",
    "import os\n",
    "import re\n",
    "import numpy as np\n",
    "import pandas as pd\n",
    "\n",
    "# scikit-learn\n",
    "from sklearn.metrics.pairwise import cosine_similarity\n",
    "from sklearn.neighbors import NearestNeighbors\n",
    "from sklearn.decomposition import PCA"
   ]
  },
  {
   "cell_type": "code",
   "execution_count": null,
   "id": "35e09cc1-937d-46ad-9b9f-666751c5be4a",
   "metadata": {},
   "outputs": [],
   "source": [
    "model_url = \"https://tfhub.dev/google/universal-sentence-encoder/4\"\n",
    "model = hub.load(model_url)\n",
    "print('Model Loaded')"
   ]
  },
  {
   "cell_type": "code",
   "execution_count": null,
   "id": "c9fe6390-5235-4eee-a3e2-42e8387c01f1",
   "metadata": {},
   "outputs": [],
   "source": [
    "def embed(texts):\n",
    "    return model(texts)"
   ]
  },
  {
   "cell_type": "code",
   "execution_count": null,
   "id": "8a309bed-7ef9-4050-be73-334d18e6ac57",
   "metadata": {},
   "outputs": [],
   "source": [
    "embed(['This movie was great!'])"
   ]
  },
  {
   "cell_type": "code",
   "execution_count": null,
   "id": "57466371-6a20-4f2c-a980-4fa919d03cca",
   "metadata": {},
   "outputs": [],
   "source": [
    "df = pd.read_csv(\"Top_10000_Movies.csv\", engine=\"python\")\n",
    "df.head()"
   ]
  },
  {
   "cell_type": "code",
   "execution_count": null,
   "id": "896c2b20-d24d-4deb-8db2-7bad1a46958a",
   "metadata": {},
   "outputs": [],
   "source": [
    "df = df[[\"original_title\", \"overview\"]]\n",
    "df.head()"
   ]
  },
  {
   "cell_type": "code",
   "execution_count": null,
   "id": "72e0c163-50be-493a-8451-c2f725d4a747",
   "metadata": {},
   "outputs": [],
   "source": [
    "df = df.dropna()\n",
    "df = df.reset_index()\n",
    "df = df[:5500]"
   ]
  },
  {
   "cell_type": "code",
   "execution_count": null,
   "id": "cbd84a1b-722c-45dd-96d6-226194770d9f",
   "metadata": {},
   "outputs": [],
   "source": [
    "titles = list(df['overview'])"
   ]
  },
  {
   "cell_type": "code",
   "execution_count": null,
   "id": "78042f65-8bcf-4427-ab29-a01d55ecc0b5",
   "metadata": {},
   "outputs": [],
   "source": [
    "titles[:5]"
   ]
  },
  {
   "cell_type": "code",
   "execution_count": null,
   "id": "4b710a2f-e88e-4612-844f-cdee6520fa5f",
   "metadata": {},
   "outputs": [],
   "source": [
    "embeddings = embed(titles)\n",
    "print('The embedding shape is:', embeddings.shape)"
   ]
  },
  {
   "cell_type": "code",
   "execution_count": null,
   "id": "42d2037d-e848-4256-85b2-f3a39172c85b",
   "metadata": {},
   "outputs": [],
   "source": [
    "pca = PCA(n_components=2)\n",
    "emb_2d = pca.fit_transform(embeddings)"
   ]
  },
  {
   "cell_type": "code",
   "execution_count": null,
   "id": "81f744d5-d93b-4705-ab37-66ff0fb90079",
   "metadata": {},
   "outputs": [],
   "source": [
    "plt.figure(figsize=(11, 6))\n",
    "plt.title('Embedding space')\n",
    "plt.scatter(emb_2d[:, 0], emb_2d[:, 1])\n",
    "plt.show()"
   ]
  },
  {
   "cell_type": "code",
   "execution_count": null,
   "id": "052598e7-df0b-4f56-b640-baf97854db2f",
   "metadata": {},
   "outputs": [],
   "source": [
    "nn = NearestNeighbors(n_neighbors=10)\n",
    "nn.fit(embeddings)"
   ]
  },
  {
   "cell_type": "code",
   "execution_count": null,
   "id": "fa1ed24a-08af-43ed-8b41-047f93cc2344",
   "metadata": {},
   "outputs": [],
   "source": [
    "def recommend(text):\n",
    "    emb = embed([text])\n",
    "    neighbors = nn.kneighbors(emb, return_distance=False)[0]\n",
    "    return df['original_title'].iloc[neighbors].tolist()"
   ]
  },
  {
   "cell_type": "code",
   "execution_count": 25,
   "id": "c861268b-c037-4ba6-a598-df67558ef164",
   "metadata": {},
   "outputs": [
    {
     "name": "stdout",
     "output_type": "stream",
     "text": [
      "Recommended Movies:\n"
     ]
    },
    {
     "data": {
      "text/plain": [
       "['Titanic',\n",
       " 'Titanic II',\n",
       " 'Titanic: 100 Years On',\n",
       " 'Romeo + Juliet',\n",
       " 'Los 7 pecados capitales',\n",
       " 'The Vow',\n",
       " 'Dear John',\n",
       " 'Јужни Ветар 2: Убрзање',\n",
       " \"Pirates of the Caribbean: At World's End\",\n",
       " 'Barbie & Chelsea: The Lost Birthday']"
      ]
     },
     "execution_count": 25,
     "metadata": {},
     "output_type": "execute_result"
    }
   ],
   "source": [
    "print('Recommended Movies:')\n",
    "recommend(\"Titanic\")"
   ]
  },
  {
   "cell_type": "code",
   "execution_count": 26,
   "id": "798b3229-6e91-4e49-a467-a583dc59d3ce",
   "metadata": {},
   "outputs": [
    {
     "name": "stdout",
     "output_type": "stream",
     "text": [
      "      Unnamed: 0        id original_language               original_title  \\\n",
      "0              0  580489.0                en  Venom: Let There Be Carnage   \n",
      "1              1  524434.0                en                     Eternals   \n",
      "2              2  438631.0                en                         Dune   \n",
      "3              3  796499.0                en              Army of Thieves   \n",
      "4              4  550988.0                en                     Free Guy   \n",
      "...          ...       ...               ...                          ...   \n",
      "10009       9995     530.0                en              A Grand Day Out   \n",
      "10010       9996   15934.0                en                  El cantante   \n",
      "10011       9997  162215.0                en               How I Live Now   \n",
      "10012       9998    5723.0                en                         Once   \n",
      "10013       9999  311667.0                en              Manhattan Night   \n",
      "\n",
      "       popularity release_date  vote_average  vote_count  \\\n",
      "0        5401.308   2021-09-30           6.8      1736.0   \n",
      "1        3365.535   2021-11-03           7.1       622.0   \n",
      "2        2911.423   2021-09-15           8.0      3632.0   \n",
      "3        2552.437   2021-10-27           6.9       555.0   \n",
      "4        1850.470   2021-08-11           7.8      3493.0   \n",
      "...           ...          ...           ...         ...   \n",
      "10009       9.266   1990-05-18           7.5       594.0   \n",
      "10010      10.417   2006-09-12           7.0        80.0   \n",
      "10011       9.520   2013-09-10           6.6       705.0   \n",
      "10012       9.267   2007-03-23           7.4       990.0   \n",
      "10013       9.273   2016-05-20           6.0       304.0   \n",
      "\n",
      "                                                   genre  \\\n",
      "0             ['Science Fiction', 'Action', 'Adventure']   \n",
      "1      ['Action', 'Adventure', 'Science Fiction', 'Fa...   \n",
      "2             ['Action', 'Adventure', 'Science Fiction']   \n",
      "3                        ['Action', 'Crime', 'Thriller']   \n",
      "4      ['Comedy', 'Action', 'Adventure', 'Science Fic...   \n",
      "...                                                  ...   \n",
      "10009  ['Adventure', 'Animation', 'Comedy', 'Science ...   \n",
      "10010                      ['History', 'Drama', 'Music']   \n",
      "10011             ['Drama', 'Action', 'Thriller', 'War']   \n",
      "10012                      ['Drama', 'Music', 'Romance']   \n",
      "10013                   ['Drama', 'Mystery', 'Thriller']   \n",
      "\n",
      "                                                overview      revenue  \\\n",
      "0      After finding a host body in investigative rep...  424000000.0   \n",
      "1      The Eternals are a team of ancient aliens who ...  165000000.0   \n",
      "2      Paul Atreides, a brilliant and gifted young ma...  331116356.0   \n",
      "3      A mysterious woman recruits bank teller Ludwig...          0.0   \n",
      "4      A bank teller called Guy realizes he is a back...  331096766.0   \n",
      "...                                                  ...          ...   \n",
      "10009  Wallace and Gromit have run out of cheese and ...          0.0   \n",
      "10010  The rise and fall of salsa singer, Héctor Lavo...          0.0   \n",
      "10011  An American girl on holiday in the English cou...          0.0   \n",
      "10012  A vacuum repairman moonlights as a street musi...   20710513.0   \n",
      "10013  Porter Wren is a Manhattan tabloid writer with...          0.0   \n",
      "\n",
      "       runtime                                            tagline  \n",
      "0         97.0                                                NaN  \n",
      "1        157.0                                In the beginning...  \n",
      "2        155.0                       Beyond fear, destiny awaits.  \n",
      "3        127.0       Before Vegas, one locksmith became a legend.  \n",
      "4        115.0     Life's too short to be a background character.  \n",
      "...        ...                                                ...  \n",
      "10009     23.0                                                NaN  \n",
      "10010    116.0  Based on the true story of the King of Salsa, ...  \n",
      "10011    101.0                            Love will lead you home  \n",
      "10012     85.0            How often do you find the right person?  \n",
      "10013    113.0                    No reporter can resist a siren.  \n",
      "\n",
      "[10014 rows x 13 columns]\n"
     ]
    }
   ],
   "source": [
    "df = pd.read_csv(\"Top_10000_Movies.csv\", engine=\"python\")\n",
    "print(df)"
   ]
  },
  {
   "cell_type": "code",
   "execution_count": null,
   "id": "23f11639-1d9d-496d-8eef-28196cd2547b",
   "metadata": {},
   "outputs": [],
   "source": []
  }
 ],
 "metadata": {
  "kernelspec": {
   "display_name": "Python 3 (ipykernel)",
   "language": "python",
   "name": "python3"
  },
  "language_info": {
   "codemirror_mode": {
    "name": "ipython",
    "version": 3
   },
   "file_extension": ".py",
   "mimetype": "text/x-python",
   "name": "python",
   "nbconvert_exporter": "python",
   "pygments_lexer": "ipython3",
   "version": "3.10.11"
  }
 },
 "nbformat": 4,
 "nbformat_minor": 5
}
